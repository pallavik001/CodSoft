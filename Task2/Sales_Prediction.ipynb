{
  "nbformat": 4,
  "nbformat_minor": 0,
  "metadata": {
    "colab": {
      "provenance": []
    },
    "kernelspec": {
      "name": "python3",
      "display_name": "Python 3"
    },
    "language_info": {
      "name": "python"
    }
  },
  "cells": [
    {
      "cell_type": "code",
      "execution_count": null,
      "metadata": {
        "id": "Ynd_KlIfOTSm"
      },
      "outputs": [],
      "source": [
        "import pandas as pd\n",
        "import numpy as np\n",
        "import matplotlib.pyplot as plt\n",
        "import seaborn as sns\n",
        "from sklearn.linear_model import LinearRegression\n",
        "from sklearn.model_selection import train_test_split\n",
        "from sklearn.linear_model import LogisticRegression\n"
      ]
    },
    {
      "cell_type": "code",
      "source": [
        "# Load the dataset\n",
        "data_file = pd.read_csv(\"sales data file.csv\")"
      ],
      "metadata": {
        "id": "_ksgicm7Oa9N"
      },
      "execution_count": null,
      "outputs": []
    },
    {
      "cell_type": "code",
      "source": [
        "# Display the first 15 rows of the dataset\n",
        "data_file.head(15)"
      ],
      "metadata": {
        "id": "SjCP8cazOd4l"
      },
      "execution_count": null,
      "outputs": []
    },
    {
      "cell_type": "code",
      "source": [
        "# Check the shape of the dataset\n",
        "data_file.shape\n"
      ],
      "metadata": {
        "id": "Wm1AvKDROfA2"
      },
      "execution_count": null,
      "outputs": []
    },
    {
      "cell_type": "code",
      "source": [
        "# Statistical description of the dataset\n",
        "data_file.describe()"
      ],
      "metadata": {
        "id": "URZMHXMQOhX3"
      },
      "execution_count": null,
      "outputs": []
    },
    {
      "cell_type": "code",
      "source": [
        "# Check for missing values\n",
        "data_file.isnull().sum()"
      ],
      "metadata": {
        "id": "ion67hO-OrZ5"
      },
      "execution_count": null,
      "outputs": []
    },
    {
      "cell_type": "code",
      "source": [
        "# Set seaborn style\n",
        "sns.set()\n"
      ],
      "metadata": {
        "id": "UzyjDn4LOslB"
      },
      "execution_count": null,
      "outputs": []
    },
    {
      "cell_type": "code",
      "source": [
        "# Histogram for TV advertising expenditure\n",
        "data_file['TV'].hist()\n",
        "plt.title('TV Advertising Expenditure')\n",
        "plt.xlabel('TV')\n",
        "plt.ylabel('Frequency')\n",
        "plt.show()\n"
      ],
      "metadata": {
        "id": "0GCPcEkzOtmy"
      },
      "execution_count": null,
      "outputs": []
    },
    {
      "cell_type": "code",
      "source": [
        "# Histogram for newspaper advertising expenditure\n",
        "data_file['Newspaper'].hist()\n",
        "plt.title('Newspaper Advertising Expenditure')\n",
        "plt.xlabel('Newspaper')\n",
        "plt.ylabel('Frequency')\n",
        "plt.show()"
      ],
      "metadata": {
        "id": "OTgdSfU5OwhE"
      },
      "execution_count": null,
      "outputs": []
    },
    {
      "cell_type": "code",
      "source": [
        "# Histogram for radio advertising expenditure\n",
        "data_file['Radio'].hist()\n",
        "plt.title('Radio Advertising Expenditure')\n",
        "plt.xlabel('Radio')\n",
        "plt.ylabel('Frequency')\n",
        "plt.show()"
      ],
      "metadata": {
        "id": "Tts_JHrZOyS2"
      },
      "execution_count": null,
      "outputs": []
    },
    {
      "cell_type": "code",
      "source": [
        "# Pairplot to visualize the relationship between features and sales\n",
        "sns.pairplot(data_file, x_vars=['TV', 'Radio', 'Newspaper'], y_vars='Sales', kind='scatter')\n",
        "plt.show()"
      ],
      "metadata": {
        "id": "KOowdDXyO0JH"
      },
      "execution_count": null,
      "outputs": []
    },
    {
      "cell_type": "code",
      "source": [
        "# Heatmap to visualize the correlation matrix\n",
        "sns.heatmap(data_file.corr(), annot=True, cmap='coolwarm')\n",
        "plt.title('Correlation Matrix')\n",
        "plt.show()\n"
      ],
      "metadata": {
        "id": "pn9VMN93O0vG"
      },
      "execution_count": null,
      "outputs": []
    },
    {
      "cell_type": "code",
      "source": [
        "# Prepare features (X) and target variable (Y)\n",
        "X = data_file.drop(columns='Sales')\n",
        "Y = data_file['Sales']"
      ],
      "metadata": {
        "id": "oZvQBp3oO2WC"
      },
      "execution_count": null,
      "outputs": []
    },
    {
      "cell_type": "code",
      "source": [
        "# Split the dataset into training and testing sets\n",
        "X_train, X_test, Y_train, Y_test = train_test_split(X, Y, test_size=0.3, random_state=3)"
      ],
      "metadata": {
        "id": "udmI2OzNO4Bp"
      },
      "execution_count": null,
      "outputs": []
    },
    {
      "cell_type": "code",
      "source": [
        "# Initialize and train the linear regression model\n",
        "model = LinearRegression()\n",
        "model.fit(X_train, Y_train)"
      ],
      "metadata": {
        "id": "JE5jADRaO52U"
      },
      "execution_count": null,
      "outputs": []
    },
    {
      "cell_type": "code",
      "source": [
        "# Predictions on test set\n",
        "predictions = model.predict(X_test)"
      ],
      "metadata": {
        "id": "5dl49lSvO7SL"
      },
      "execution_count": null,
      "outputs": []
    },
    {
      "cell_type": "code",
      "source": [
        "# Intercept of the model\n",
        "intercept = model.intercept_"
      ],
      "metadata": {
        "id": "7BVJuxgvO_fR"
      },
      "execution_count": null,
      "outputs": []
    },
    {
      "cell_type": "code",
      "source": [
        "# Coefficients of the model\n",
        "coefficients = model.coef_"
      ],
      "metadata": {
        "id": "_AU9v-P4PA9g"
      },
      "execution_count": null,
      "outputs": []
    },
    {
      "cell_type": "code",
      "source": [
        "# Accuracy score of the model\n",
        "accuracy_score = model.score(X_test, Y_test) * 100"
      ],
      "metadata": {
        "id": "AhZE8haAPCZB"
      },
      "execution_count": null,
      "outputs": []
    },
    {
      "cell_type": "code",
      "source": [
        "print(\"Intercept:\", intercept)\n",
        "print(\"Coefficients:\", coefficients)\n",
        "print(f\"Accuracy of the model: {accuracy_score}%\")"
      ],
      "metadata": {
        "id": "-mCdACRIPEls"
      },
      "execution_count": null,
      "outputs": []
    }
  ]
}