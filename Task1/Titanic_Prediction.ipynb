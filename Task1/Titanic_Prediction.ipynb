{
  "nbformat": 4,
  "nbformat_minor": 0,
  "metadata": {
    "colab": {
      "provenance": []
    },
    "kernelspec": {
      "name": "python3",
      "display_name": "Python 3"
    },
    "language_info": {
      "name": "python"
    }
  },
  "cells": [
    {
      "cell_type": "code",
      "source": [
        "import pandas as pd\n",
        "import numpy as np\n",
        "import matplotlib.pyplot as plt\n",
        "import seaborn as sns\n",
        "from sklearn.model_selection import train_test_split\n",
        "from sklearn.linear_model import LogisticRegression\n",
        "from sklearn.metrics import accuracy_score"
      ],
      "metadata": {
        "id": "WZya_8WaPxKv"
      },
      "execution_count": 2,
      "outputs": []
    },
    {
      "cell_type": "code",
      "source": [
        "# Load the dataset\n",
        "data = pd.read_csv(\"test.csv\")"
      ],
      "metadata": {
        "id": "as2WKGb5P0Jh"
      },
      "execution_count": null,
      "outputs": []
    },
    {
      "cell_type": "code",
      "source": [
        "# Display the first few rows of the dataset\n",
        "print(data.head())\n"
      ],
      "metadata": {
        "id": "oQ9HikVwP0tJ"
      },
      "execution_count": null,
      "outputs": []
    },
    {
      "cell_type": "code",
      "source": [
        "# Check the shape of the dataset\n",
        "print(\"Shape of the dataset:\", data.shape)"
      ],
      "metadata": {
        "id": "bqj1Ih_OP2Ds"
      },
      "execution_count": null,
      "outputs": []
    },
    {
      "cell_type": "code",
      "source": [
        "# Get information about the dataset\n",
        "print(data.info())"
      ],
      "metadata": {
        "id": "3XYE6fieP3WO"
      },
      "execution_count": null,
      "outputs": []
    },
    {
      "cell_type": "code",
      "source": [
        "# Check for missing values\n",
        "print(\"Missing values:\\n\", data.isnull().sum())"
      ],
      "metadata": {
        "id": "mHed1Xr0QDqd"
      },
      "execution_count": null,
      "outputs": []
    },
    {
      "cell_type": "code",
      "source": [
        "# Drop the 'Cabin' column as it has too many missing values\n",
        "data = data.drop(columns='Cabin', axis=1)"
      ],
      "metadata": {
        "id": "wiy9s29BQEZN"
      },
      "execution_count": null,
      "outputs": []
    },
    {
      "cell_type": "code",
      "source": [
        "# Fill missing values in 'Age' with the mean\n",
        "data['Age'].fillna(data['Age'].mean(), inplace=True)"
      ],
      "metadata": {
        "id": "WNFA8sydQF2-"
      },
      "execution_count": null,
      "outputs": []
    },
    {
      "cell_type": "code",
      "source": [
        "# Fill missing values in 'Embarked' with the mode\n",
        "data['Embarked'].fillna(data['Embarked'].mode()[0], inplace=True)"
      ],
      "metadata": {
        "id": "ElObL9MEQHk_"
      },
      "execution_count": null,
      "outputs": []
    },
    {
      "cell_type": "code",
      "source": [
        "# Fill missing values in 'Fare' with the mode\n",
        "data['Fare'].fillna(data['Fare'].mode()[0], inplace=True)"
      ],
      "metadata": {
        "id": "B0Eq4fJYQJzM"
      },
      "execution_count": null,
      "outputs": []
    },
    {
      "cell_type": "code",
      "source": [
        "# Check if there are any remaining missing values\n",
        "print(\"Total missing values after imputation:\", data.isnull().sum().sum())"
      ],
      "metadata": {
        "id": "hKWcgG-zQPvn"
      },
      "execution_count": null,
      "outputs": []
    },
    {
      "cell_type": "code",
      "source": [
        "# Count the number of survivors\n",
        "print(\"Survived count:\\n\", data['Survived'].value_counts())"
      ],
      "metadata": {
        "id": "ppLvvMiAQRE_"
      },
      "execution_count": null,
      "outputs": []
    },
    {
      "cell_type": "code",
      "source": [
        "# Display statistical summary of the dataset\n",
        "print(\"Statistical summary:\\n\", data.describe())"
      ],
      "metadata": {
        "id": "YIHegoCYQSjx"
      },
      "execution_count": null,
      "outputs": []
    },
    {
      "cell_type": "code",
      "source": [
        "# Visualize the count of survivors\n",
        "sns.set()\n",
        "sns.countplot(x='Survived', data=data)\n",
        "plt.show()"
      ],
      "metadata": {
        "id": "ujjU-QWwQU78"
      },
      "execution_count": null,
      "outputs": []
    },
    {
      "cell_type": "code",
      "source": [
        "# Visualize the count of passengers by sex\n",
        "sns.countplot(x='Sex', data=data)\n",
        "plt.show()"
      ],
      "metadata": {
        "id": "wZPi4ZJlQWx8"
      },
      "execution_count": null,
      "outputs": []
    },
    {
      "cell_type": "code",
      "source": [
        "# Visualize the count of survivors by sex\n",
        "sns.countplot(x='Sex', hue='Survived', data=data)\n",
        "plt.show()"
      ],
      "metadata": {
        "id": "mw5EWqHfQXV2"
      },
      "execution_count": null,
      "outputs": []
    },
    {
      "cell_type": "code",
      "source": [
        "# Visualize the count of passengers by passenger class\n",
        "sns.countplot(x='Pclass', data=data)\n",
        "plt.show()"
      ],
      "metadata": {
        "id": "7-AYES6bQZLW"
      },
      "execution_count": null,
      "outputs": []
    },
    {
      "cell_type": "code",
      "source": [
        "# Visualize the count of survivors by passenger class\n",
        "sns.countplot(x='Pclass', hue='Survived', data=data)\n",
        "plt.show()"
      ],
      "metadata": {
        "id": "K6oHb8lKQaoX"
      },
      "execution_count": null,
      "outputs": []
    },
    {
      "cell_type": "code",
      "source": [
        "# Replace categorical values with numerical values\n",
        "data.replace({'Sex': {'male': 0, 'female': 1}, 'Embarked': {'S': 0, 'C': 1, 'Q': 2}}, inplace=True)"
      ],
      "metadata": {
        "id": "2IzxsN3xQcPp"
      },
      "execution_count": null,
      "outputs": []
    },
    {
      "cell_type": "code",
      "source": [
        "# Prepare features (X) and target variable (Y)\n",
        "X = data.drop(columns=['PassengerId', 'Name', 'Ticket'], axis=1)\n",
        "Y = data['Survived']"
      ],
      "metadata": {
        "id": "SiCthlWaQeMj"
      },
      "execution_count": null,
      "outputs": []
    },
    {
      "cell_type": "code",
      "source": [
        "# Split the dataset into training and testing sets\n",
        "X_train, X_test, Y_train, Y_test = train_test_split(X, Y, test_size=0.2, random_state=2)"
      ],
      "metadata": {
        "id": "JnK1upmiQf1G"
      },
      "execution_count": null,
      "outputs": []
    },
    {
      "cell_type": "code",
      "source": [
        "# Initialize and train the logistic regression model\n",
        "model = LogisticRegression()\n",
        "model.fit(X_train, Y_train)"
      ],
      "metadata": {
        "id": "6pSE5jUbQhLp"
      },
      "execution_count": null,
      "outputs": []
    },
    {
      "cell_type": "code",
      "source": [
        "# Predictions on training set\n",
        "train_predictions = model.predict(X_train)\n",
        "train_accuracy = accuracy_score(Y_train, train_predictions)\n",
        "print(\"Training Accuracy:\", train_accuracy)"
      ],
      "metadata": {
        "id": "sMRmswizQh5V"
      },
      "execution_count": null,
      "outputs": []
    },
    {
      "cell_type": "code",
      "source": [
        "# Predictions on test set\n",
        "test_predictions = model.predict(X_test)\n",
        "test_accuracy = accuracy_score(Y_test, test_predictions)\n",
        "print(\"Test Accuracy:\", test_accuracy)\n"
      ],
      "metadata": {
        "id": "18zuBfqHQksg"
      },
      "execution_count": null,
      "outputs": []
    }
  ]
}